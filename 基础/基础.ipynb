{
 "cells": [
  {
   "cell_type": "code",
   "execution_count": 26,
   "metadata": {
    "collapsed": false
   },
   "outputs": [
    {
     "name": "stdout",
     "output_type": "stream",
     "text": [
      "@#$A#$sfjfji/\njeijfio\n"
     ]
    }
   ],
   "source": [
    "#赋值\n",
    "a=b=c=d=e=f=g=A=99\n",
    "print(c)\n",
    "print(d)\n",
    "print(a)\n",
    "\n",
    "x,y,z=1,44,88\n",
    "print(x)\n",
    "print(y)\n",
    "print(z)\n",
    "\n",
    "a=\"AADEDESE\"\n",
    "B=\"ei9ew09ew\"\n",
    "print(a*2,b+1,B,c,e,x,\"ei\") #赋值区分大小写，print选择最近的值,*代表打印次数"
   ]
  },
  {
   "cell_type": "code",
   "execution_count": 42,
   "metadata": {
    "collapsed": false
   },
   "outputs": [
    {
     "name": "stdout",
     "output_type": "stream",
     "text": [
      "@#$A#$sfjfji/\njeijfio\n"
     ]
    }
   ],
   "source": [
    "a=\"@#$A#$sfjfji/\\njeijfio\"  #\\n代表强行换行\n",
    "print(a)"
   ]
  },
  {
   "cell_type": "code",
   "execution_count": 32,
   "metadata": {},
   "outputs": [],
   "source": []
  },
  {
   "cell_type": "code",
   "execution_count": null,
   "metadata": {},
   "outputs": [],
   "source": []
  }
 ],
 "metadata": {
  "kernelspec": {
   "display_name": "Python 2",
   "language": "python",
   "name": "python2"
  },
  "language_info": {
   "codemirror_mode": {
    "name": "ipython",
    "version": 2
   },
   "file_extension": ".py",
   "mimetype": "text/x-python",
   "name": "python",
   "nbconvert_exporter": "python",
   "pygments_lexer": "ipython2",
   "version": "2.7.6"
  }
 },
 "nbformat": 4,
 "nbformat_minor": 0
}
