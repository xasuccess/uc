{
 "cells": [
  {
   "cell_type": "code",
   "execution_count": 1,
   "metadata": {
    "collapsed": false
   },
   "outputs": [
    {
     "name": "stdout",
     "output_type": "stream",
     "text": [
      "99\n99\n99\n1\n44\n88\nAADEDESEAADEDESE 100 ei9ew09ew 99 99 1 ei\n"
     ]
    }
   ],
   "source": [
    "#赋值\n",
    "a=b=c=d=e=f=g=A=99\n",
    "print(c)\n",
    "print(d)\n",
    "print(a)\n",
    "\n",
    "x,y,z=1,44,88\n",
    "print(x)\n",
    "print(y)\n",
    "print(z)\n",
    "\n",
    "a=\"AADEDESE\"\n",
    "B=\"ei9ew09ew\"\n",
    "print(a*2,b+1,B,c,e,x,\"ei\") #赋值区分大小写，print选择最近的值,*代表打印次数"
   ]
  },
  {
   "cell_type": "code",
   "execution_count": 2,
   "metadata": {
    "collapsed": false
   },
   "outputs": [
    {
     "name": "stdout",
     "output_type": "stream",
     "text": [
      "@#$A#$sfjfji/\njeijfio\n"
     ]
    }
   ],
   "source": [
    "a=\"@#$A#$sfjfji/\\njeijfio\"  #\\n代表强行换行\n",
    "print(a)"
   ]
  },
  {
   "cell_type": "code",
   "execution_count": 3,
   "metadata": {},
   "outputs": [
    {
     "name": "stdout",
     "output_type": "stream",
     "text": [
      "参数02参数3ABC*参数1*2*参数3x\n"
     ]
    }
   ],
   "source": [
    "#format函数\n",
    "print((\"{0}{2}{3}ABC\"\"*\"\"{1}\"\"*\"\"{2}\"\"*\"\"{3}{4}\").format(\"参数0\",\"参数1\",2,\"参数3\",\"x\"))"
   ]
  },
  {
   "cell_type": "code",
   "execution_count": 4,
   "metadata": {},
   "outputs": [
    {
     "name": "stdout",
     "output_type": "stream",
     "text": [
      "2\n4\n6\n8\n10\n12\n14\n16\n<class 'int'>\n1 \n2 4 \n3 6 9 \n4 8 12 16 \n5 10 15 20 25 \n6 12 18 24 30 36 \n7 14 21 28 35 42 49 \n8 16 24 32 40 48 56 64 \n9 18 27 36 45 54 63 72 81 \n"
     ]
    }
   ],
   "source": [
    "for i in range(1,18):\n",
    "    if i % 2 == 0:\n",
    "        print(i)\n",
    "print(type(i)) #打印i的属性\n",
    "for i in range(1,10):\n",
    "    for j in range(1,i+1):\n",
    "        print(i*j, end=\" \")\n",
    "    print(\"\")"
   ]
  },
  {
   "cell_type": "code",
   "execution_count": null,
   "metadata": {},
   "outputs": [],
   "source": []
  }
 ],
 "metadata": {
  "kernelspec": {
   "display_name": "Python 2",
   "language": "python",
   "name": "python2"
  },
  "language_info": {
   "codemirror_mode": {
    "name": "ipython",
    "version": 2
   },
   "file_extension": ".py",
   "mimetype": "text/x-python",
   "name": "python",
   "nbconvert_exporter": "python",
   "pygments_lexer": "ipython2",
   "version": "2.7.6"
  }
 },
 "nbformat": 4,
 "nbformat_minor": 0
}
