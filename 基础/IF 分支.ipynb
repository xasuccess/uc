{
 "cells": [
  {
   "cell_type": "code",
   "execution_count": 31,
   "metadata": {},
   "outputs": [
    {
     "name": "stdout",
     "output_type": "stream",
     "text": [
      "welcome boss\n"
     ]
    }
   ],
   "source": [
    "name = '{}'.format('丁灵')\n",
    "if name ==('丁灵'):         # 判断变量否为'python'\n",
    "    print('welcome boss')    # 并输出欢迎信息\n",
    "else:\n",
    "    print(name)"
   ]
  },
  {
   "cell_type": "code",
   "execution_count": 87,
   "metadata": {},
   "outputs": [
    {
     "name": "stdout",
     "output_type": "stream",
     "text": [
      "user\n"
     ]
    }
   ],
   "source": [
    "num1= -1\n",
    "num2= 3\n",
    "if num1+num2 == 3:        \n",
    "    print('boss')      \n",
    "elif num1+num2 == 2:\n",
    "    print('user')\n",
    "elif num1+num2 == 1:\n",
    "    print('worker')\n",
    "elif num1+num2 < 0:           # 值小于零时输出\n",
    "    print('lald')\n",
    "else:\n",
    "    print('roadman')    # 条件均不成立时输出"
   ]
  },
  {
   "cell_type": "code",
   "execution_count": 54,
   "metadata": {},
   "outputs": [
    {
     "name": "stdout",
     "output_type": "stream",
     "text": [
      "error\n"
     ]
    }
   ],
   "source": [
    "num = 11\n",
    "if num >= 0 and num <= 10:    # 判断值是否在0~10之间\n",
    "    print('hello')\n",
    "else:\n",
    "    print('error')"
   ]
  },
  {
   "cell_type": "code",
   "execution_count": 75,
   "metadata": {},
   "outputs": [
    {
     "name": "stdout",
     "output_type": "stream",
     "text": [
      "55\n"
     ]
    }
   ],
   "source": [
    "num = 13\n",
    "if num >= 0 and num <= 10:    # 判断值是否在0~10之间\n",
    "    print('hello')\n",
    "elif num == 12:                           #多条件判断用elif\n",
    "    print('dd')\n",
    "elif num == 13:\n",
    "    print('55')"
   ]
  },
  {
   "cell_type": "code",
   "execution_count": 74,
   "metadata": {},
   "outputs": [
    {
     "name": "stdout",
     "output_type": "stream",
     "text": [
      "变量 var 的值为\n",
      "100\n",
      "Good bye!\n"
     ]
    }
   ],
   "source": [
    "var = 100\n",
    "if var==100:\n",
    "    print('变量 var 的值为\\n100')\n",
    "    print('Good bye!')\n",
    "else:                                      #else 后面必须跟冒号\n",
    "    print('错误')"
   ]
  },
  {
   "cell_type": "code",
   "execution_count": 12,
   "metadata": {},
   "outputs": [
    {
     "name": "stdout",
     "output_type": "stream",
     "text": [
      "D\n"
     ]
    }
   ],
   "source": [
    "score = 66\n",
    "if score >=90:\n",
    "\tprint(\"A\")\n",
    "elif score >=80:\n",
    "\tprint(\"B\")\n",
    "elif score >=70:\n",
    "\tprint(\"C\")\n",
    "elif score >=60:\n",
    "\tprint(\"D\")\n",
    "else:\n",
    "\tprint(\"NOOOO~\")\n"
   ]
  },
  {
   "cell_type": "code",
   "execution_count": 13,
   "metadata": {},
   "outputs": [],
   "source": [
    ""
   ]
  },
  {
   "cell_type": "code",
   "execution_count": 13,
   "metadata": {},
   "outputs": [],
   "source": [
    ""
   ]
  },
  {
   "cell_type": "code",
   "execution_count": null,
   "metadata": {},
   "outputs": [],
   "source": []
  }
 ],
 "metadata": {
  "kernelspec": {
   "display_name": "Python 3",
   "language": "python",
   "name": "python3"
  },
  "language_info": {
   "codemirror_mode": {
    "name": "ipython",
    "version": 3
   },
   "file_extension": ".py",
   "mimetype": "text/x-python",
   "name": "python",
   "nbconvert_exporter": "python",
   "pygments_lexer": "ipython3",
   "version": "3.7.0"
  }
 },
 "nbformat": 4,
 "nbformat_minor": 2
}
