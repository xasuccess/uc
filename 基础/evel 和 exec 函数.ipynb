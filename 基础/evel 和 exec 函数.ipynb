{
 "cells": [
  {
   "cell_type": "code",
   "execution_count": 16,
   "metadata": {},
   "outputs": [
    {
     "name": "stdout",
     "output_type": "stream",
     "text": [
      "323\n",
      "323\n",
      "None\n"
     ]
    },
    {
     "data": {
      "text/plain": [
       "323"
      ]
     },
     "execution_count": 16,
     "metadata": {},
     "output_type": "execute_result"
    }
   ],
   "source": [
    "## eval()  和exec 函数  把一个字符串当成一个表达式来执行，返回表达式执行后结束\n",
    "x = 100\n",
    "y = 223\n",
    "\n",
    "print(x+y)\n",
    "print(eval(\"x+y\"))\n",
    "print(exec(\"x+y\"))\n",
    "eval(\"x+y\")\n",
    "exec(\"x+y\")       #exec 函数 ？？？？？？？？？\n",
    "eval(\"x+y\")"
   ]
  }
 ],
 "metadata": {
  "kernelspec": {
   "display_name": "Python 3",
   "language": "python",
   "name": "python3"
  },
  "language_info": {
   "codemirror_mode": {
    "name": "ipython",
    "version": 3
   },
   "file_extension": ".py",
   "mimetype": "text/x-python",
   "name": "python",
   "nbconvert_exporter": "python",
   "pygments_lexer": "ipython3",
   "version": "3.7.0"
  }
 },
 "nbformat": 4,
 "nbformat_minor": 2
}
