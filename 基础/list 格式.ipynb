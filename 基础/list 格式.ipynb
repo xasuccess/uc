{
 "cells": [
  {
   "cell_type": "code",
   "execution_count": 70,
   "metadata": {},
   "outputs": [
    {
     "name": "stdout",
     "output_type": "stream",
     "text": [
      "[1, '55e', 12, 4, 54, 4, 8, 9, 6, 4, 1, 3, 67]\n",
      "[1, '55e', 12, 4, 54]\n",
      "[8, 9]\n"
     ]
    }
   ],
   "source": [
    "list3 = [1,\"55e\",12,4,54,4,8,9,6,4,1,3,67]\n",
    "list1 = list3[0:5:1]\n",
    "\n",
    "list2 = list3[-7:-5]\n",
    "\n",
    "print(list3)\n",
    "print(list1)\n",
    "print(list2)"
   ]
  },
  {
   "cell_type": "code",
   "execution_count": 2,
   "metadata": {},
   "outputs": [
    {
     "name": "stdout",
     "output_type": "stream",
     "text": [
      "[1, 22, 4, 3, 4, 324, 2]\n",
      "[22, 4, 4, 2]\n"
     ]
    }
   ],
   "source": [
    "a = [1,22,4,3,4,324,2]\n",
    "print(a)\n",
    "b = [a for a in a if a%2 == 0 if a<100]\n",
    "print(b)"
   ]
  },
  {
   "cell_type": "code",
   "execution_count": 3,
   "metadata": {},
   "outputs": [
    {
     "name": "stdout",
     "output_type": "stream",
     "text": [
      "dfd\n",
      "[4, 8, 9, 6]\n"
     ]
    }
   ],
   "source": [
    "l = [1,54,12,4,54,4,8,9,6,4,1,3,67]\n",
    "l[1] = \"dfd\"\n",
    "l2 = l[5:9]\n",
    "print(l[1])\n",
    "print(l2)"
   ]
  },
  {
   "cell_type": "code",
   "execution_count": 4,
   "metadata": {},
   "outputs": [
    {
     "name": "stdout",
     "output_type": "stream",
     "text": [
      "[1, 2, 3, 4, 5, 6]\n",
      "2548287334152\n",
      "[2, 3, 4, 5, 6]\n",
      "2548287334152\n"
     ]
    }
   ],
   "source": [
    "##del 删除list内容,列表数值变了，id没有变化\n",
    "a = [1,2,3,4,5,6]\n",
    "print(a)\n",
    "print(id(a))\n",
    "del a[0]         ##列表删除某一个值\n",
    "print(a)\n",
    "print(id(a))  "
   ]
  },
  {
   "cell_type": "code",
   "execution_count": 5,
   "metadata": {},
   "outputs": [],
   "source": [
    "a = [1,2,3,4,5,6]\n",
    "del a   #删除整个列表\n"
   ]
  },
  {
   "cell_type": "code",
   "execution_count": 6,
   "metadata": {},
   "outputs": [
    {
     "name": "stdout",
     "output_type": "stream",
     "text": [
      "[1, 2, 34, 5, 6, 56, 2, 34, 'ghhfg', 3, 235, 'd', 23]\n",
      "[1, 2, 34, 5, 6, 56, 1, 2, 34, 5, 6, 56, 1, 2, 34, 5, 6, 56]\n"
     ]
    }
   ],
   "source": [
    "##列表相加，使用加号相加列表，其实是链接\n",
    "a = [1,2,34,5,6,56]\n",
    "b = [2,34,\"ghhfg\",3,235,'d',23]\n",
    "c = a+b\n",
    "d = a*3\n",
    "print(c)\n",
    "print(d)"
   ]
  },
  {
   "cell_type": "code",
   "execution_count": 7,
   "metadata": {},
   "outputs": [
    {
     "name": "stdout",
     "output_type": "stream",
     "text": [
      "False\n",
      "True\n"
     ]
    }
   ],
   "source": [
    "##成员资格运算\n",
    "a = [1,2,3,4,5]\n",
    "b = 8\n",
    "c = b in a\n",
    "d = b not in a\n",
    "print(c)\n",
    "print(d)"
   ]
  },
  {
   "cell_type": "code",
   "execution_count": 8,
   "metadata": {},
   "outputs": [
    {
     "name": "stdout",
     "output_type": "stream",
     "text": [
      "True\n"
     ]
    }
   ],
   "source": [
    "a = [1,2,3,4,5]\n",
    "b = 0\n",
    "print(b not in a)"
   ]
  },
  {
   "cell_type": "code",
   "execution_count": 9,
   "metadata": {},
   "outputs": [
    {
     "name": "stdout",
     "output_type": "stream",
     "text": [
      "1\n",
      "2\n",
      "3\n",
      "4\n",
      "5\n"
     ]
    }
   ],
   "source": [
    "##列表的遍历，一个个访问，循环打印\n",
    "a = [1,2,3,4,5]\n",
    "for i in a:\n",
    "    print(i)\n"
   ]
  },
  {
   "cell_type": "code",
   "execution_count": 10,
   "metadata": {},
   "outputs": [
    {
     "name": "stdout",
     "output_type": "stream",
     "text": [
      "i love zhouzhiping\n"
     ]
    }
   ],
   "source": [
    "b = [\"i love zhouzhiping\"]\n",
    "for i in b:\n",
    "    print(i)"
   ]
  },
  {
   "cell_type": "code",
   "execution_count": 11,
   "metadata": {},
   "outputs": [],
   "source": [
    "##in后面的变量需求是可以迭代的"
   ]
  },
  {
   "cell_type": "code",
   "execution_count": 12,
   "metadata": {},
   "outputs": [
    {
     "data": {
      "text/plain": [
       "'a = [1,2,3,4,5,6]\\nlength = len(a)\\nindx = 0'"
      ]
     },
     "execution_count": 12,
     "metadata": {},
     "output_type": "execute_result"
    }
   ],
   "source": [
    "# while循环访问list ，一般不用while 遍历list\n",
    "\"\"\"a = [1,2,3,4,5,6]\n",
    "length = len(a)\n",
    "indx = 0\"\"\"\n",
    "\n",
    "\n",
    "\n",
    "\n",
    "\n",
    "\n",
    "\n"
   ]
  },
  {
   "cell_type": "code",
   "execution_count": 13,
   "metadata": {},
   "outputs": [
    {
     "name": "stdout",
     "output_type": "stream",
     "text": [
      "one -.- 1\n",
      "two -.- 2\n",
      "three -.- 3\n"
     ]
    }
   ],
   "source": [
    "###双层循环,k,v 代表嵌套的内容必须是两个,k,v,i在嵌套中就可以变三层\n",
    "a = [[\"one\", 1], [\"two\", 2], [\"three\", 3]]\n",
    "for k,v in a:\n",
    "    print(k,\"-.-\",v)"
   ]
  },
  {
   "cell_type": "code",
   "execution_count": 14,
   "metadata": {},
   "outputs": [],
   "source": [
    "#列表内涵 list content"
   ]
  },
  {
   "cell_type": "code",
   "execution_count": 29,
   "metadata": {},
   "outputs": [
    {
     "name": "stdout",
     "output_type": "stream",
     "text": [
      "['aa', 'bb', 'cc', 'aa', 'bb', 'cc']\n",
      "\n"
     ]
    }
   ],
   "source": [
    "a = [\"a\", \"b\", \"c\"]\n",
    "b = [x*2 for x in a]\n",
    "print(b*2)\n",
    "print()"
   ]
  },
  {
   "cell_type": "code",
   "execution_count": 16,
   "metadata": {},
   "outputs": [
    {
     "name": "stdout",
     "output_type": "stream",
     "text": [
      "[10, 20, 30, 40, 50]\n"
     ]
    }
   ],
   "source": [
    "a = [1,2,3,4,5]\n",
    "b = [x*10 for x in a]\n",
    "print(b)"
   ]
  },
  {
   "cell_type": "code",
   "execution_count": 17,
   "metadata": {},
   "outputs": [
    {
     "name": "stdout",
     "output_type": "stream",
     "text": [
      "[2, 4, 6, 8, 10, 12, 14, 16, 18, 20, 22, 24, 26, 28, 30, 32, 34, 36, 38, 40, 42, 44, 46, 48, 50, 52, 54, 56, 58, 60, 62, 64, 66, 68, 70, 72, 74, 76, 78, 80, 82, 84, 86, 88, 90, 92]\n"
     ]
    }
   ],
   "source": [
    "a = [x for x in range(1,93) if x%2 == 0]   ##附带 条件格式的list生成 if\n",
    "print(a)"
   ]
  },
  {
   "cell_type": "markdown",
   "metadata": {},
   "source": [
    "笔记基地附近的的"
   ]
  },
  {
   "cell_type": "code",
   "execution_count": 28,
   "metadata": {},
   "outputs": [
    {
     "name": "stdout",
     "output_type": "stream",
     "text": [
      "[1, 2, 3, 4]\n",
      "[100, 200, 300, 400]\n",
      "[101, 201, 301, 102, 202, 302, 103, 203, 303, 104, 204, 304]\n",
      "101,201,301,401,102,202,302,402,103,203,303,403,104,204,304,404,"
     ]
    }
   ],
   "source": [
    "##### 列表生成嵌套，有两个列表a和b\n",
    "a = [i for i in range(1,5)]\n",
    "b = [i for i in range(100,500) if i%100 == 0]\n",
    "print(a)\n",
    "print(b)\n",
    "c = [x+y for x in a for y in b if x+y < 399]\n",
    "print(c)\n",
    "for x in a:\n",
    "    for y in b:\n",
    "        print(x+y, end=\",\")"
   ]
  },
  {
   "cell_type": "code",
   "execution_count": 39,
   "metadata": {},
   "outputs": [
    {
     "name": "stdout",
     "output_type": "stream",
     "text": [
      "106\n",
      "91\n",
      "-22\n",
      "周志萍\n",
      "2548288870800\n",
      "2548288987360\n"
     ]
    }
   ],
   "source": [
    "##列表的函数len 长度函数 max min\n",
    "a = [x for x in range(-22,92)]\n",
    "print(len(a)-8)\n",
    "print(max(a))\n",
    "print(min(a))\n",
    "b = [\"sdww\", \"sda\", \"python\", \"丁灵\",\"周志萍\"]\n",
    "print(max(b))\n",
    "print(id(\"周志萍\"))\n",
    "print(id(\"丁灵\"))"
   ]
  },
  {
   "cell_type": "code",
   "execution_count": 56,
   "metadata": {},
   "outputs": [
    {
     "name": "stdout",
     "output_type": "stream",
     "text": [
      "4\n"
     ]
    }
   ],
   "source": [
    "list = [1,\"55e\",12,4,54,4,8,9,6,4,1,3,67]\n",
    "a = list[3]\n",
    "print(a)\n"
   ]
  },
  {
   "cell_type": "code",
   "execution_count": 69,
   "metadata": {},
   "outputs": [
    {
     "name": "stdout",
     "output_type": "stream",
     "text": [
      "[1, 2, 3, 4, 5, 6, 7]\n",
      "[1, 2, 'dd', 4, 5, 6, 7]\n",
      "[1, 2, 'dd', 4, 5, 6, 7]\n",
      "93\n",
      "193\n",
      "93\n"
     ]
    }
   ],
   "source": [
    "\n",
    "##传值和传地址的区别，对于简单的数值，采用传值操作，复杂传地址\n",
    "def afax(n):\n",
    "    n[2] = \"dd\"\n",
    "    print(n)\n",
    "    \n",
    "\n",
    "def bfax(n):\n",
    "    n += 100\n",
    "    print(n)\n",
    "    return None\n",
    "\n",
    "an = [1,2,3,4,5,6,7]\n",
    "bn = 93\n",
    "\n",
    "print(an)\n",
    "afax(an)\n",
    "print(an)\n",
    "print(bn)\n",
    "bfax(bn)\n",
    "print(bn)"
   ]
  },
  {
   "cell_type": "code",
   "execution_count": 77,
   "metadata": {},
   "outputs": [
    {
     "name": "stdout",
     "output_type": "stream",
     "text": [
      "[1, 2, 3, 4, 5, 'e']\n"
     ]
    }
   ],
   "source": [
    "a = [1,2,3,4,5]\n",
    "a.append(\"e\")\n",
    "print(a)"
   ]
  },
  {
   "cell_type": "code",
   "execution_count": null,
   "metadata": {},
   "outputs": [],
   "source": []
  },
  {
   "cell_type": "code",
   "execution_count": null,
   "metadata": {},
   "outputs": [],
   "source": []
  },
  {
   "cell_type": "code",
   "execution_count": null,
   "metadata": {},
   "outputs": [],
   "source": []
  },
  {
   "cell_type": "code",
   "execution_count": null,
   "metadata": {},
   "outputs": [],
   "source": []
  },
  {
   "cell_type": "code",
   "execution_count": null,
   "metadata": {},
   "outputs": [],
   "source": []
  }
 ],
 "metadata": {
  "kernelspec": {
   "display_name": "Python 3",
   "language": "python",
   "name": "python3"
  },
  "language_info": {
   "codemirror_mode": {
    "name": "ipython",
    "version": 3
   },
   "file_extension": ".py",
   "mimetype": "text/x-python",
   "name": "python",
   "nbconvert_exporter": "python",
   "pygments_lexer": "ipython3",
   "version": "3.7.0"
  }
 },
 "nbformat": 4,
 "nbformat_minor": 2
}
